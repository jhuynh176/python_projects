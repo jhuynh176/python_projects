{
 "cells": [
  {
   "cell_type": "markdown",
   "metadata": {},
   "source": [
    "### *Jump*\n",
    "\n",
    "- [*Basic - class Node* - Singly Linked List](#class-node---singly-linked-list)\n",
    "- [*Implementation - Node* - Singly Linked List](#node-implementation---singly-linked-list)"
   ]
  },
  {
   "cell_type": "markdown",
   "metadata": {},
   "source": [
    "# **Node**\n",
    "\n",
    "- Contain `data`, which can be a variety of data types\n",
    "- Contain `links` to other `nodes`\n",
    "  - If a nodes has no links, or they are all `null`, you have reached teh end of the path you were following.\n",
    "- Can be orphaned if there are no existing links to them\n",
    "\n"
   ]
  },
  {
   "cell_type": "markdown",
   "metadata": {},
   "source": [
    "## **`class Node` - Singly Linked List**"
   ]
  },
  {
   "cell_type": "code",
   "execution_count": 1,
   "metadata": {},
   "outputs": [],
   "source": [
    "class Node:\n",
    "    def __init__(self, value, next_node = None):\n",
    "        self.value = value\n",
    "        self.next_node = next_node\n",
    "\n",
    "    def get_value(self):\n",
    "        return self.value\n",
    "\n",
    "    def get_next_node(self):\n",
    "        return self.next_node\n",
    "\n",
    "    def set_next_node(self, next_node):\n",
    "        self.next_node = next_node\n"
   ]
  },
  {
   "cell_type": "code",
   "execution_count": 2,
   "metadata": {},
   "outputs": [
    {
     "name": "stdout",
     "output_type": "stream",
     "text": [
      "node1 - Value:\t\t\t 11\n",
      "node1 - Next Node - Value:\t 22 \n",
      "\n",
      "node2 - Value:\t\t\t 22\n",
      "node2 - Next Node - Value:\t 33 \n",
      "\n",
      "node3 - Value:\t\t\t 33\n",
      "Node 3 - Next Node - Value:\t ERROR - NODE LINKS TO NONE \n",
      "\n"
     ]
    }
   ],
   "source": [
    "node1 = Node(11)\n",
    "node2 = Node(22)\n",
    "node3 = Node(33)\n",
    "\n",
    "node1.set_next_node(node2)\n",
    "node2.set_next_node(node3)\n",
    "\n",
    "error = \"ERROR - NODE LINKS TO NONE\"\n",
    "try:\n",
    "    print(\"node1 - Value:\\t\\t\\t\", node1.get_value())\n",
    "    print(\"node1 - Next Node - Value:\\t\", node1.get_next_node().get_value(), '\\n')\n",
    "\n",
    "    print(\"node2 - Value:\\t\\t\\t\", node2.get_value())\n",
    "    print(\"node2 - Next Node - Value:\\t\", node2.get_next_node().get_value(), '\\n')\n",
    "\n",
    "    print(\"node3 - Value:\\t\\t\\t\", node3.get_value())\n",
    "    print(\"node3 - Next Node - Value:\\t\", node3.get_next_node().get_value(), '\\n')\n",
    "\n",
    "except:\n",
    "    print(\"Node 3 - Next Node - Value:\\t\", error, '\\n')\n"
   ]
  },
  {
   "cell_type": "markdown",
   "metadata": {},
   "source": [
    "## **`Node Implementation` - Singly Linked List**"
   ]
  },
  {
   "cell_type": "code",
   "execution_count": 3,
   "metadata": {},
   "outputs": [],
   "source": [
    "class Node:\n",
    "    def __init__(self, val, next = None):\n",
    "        self.val = val\n",
    "        self.next = next"
   ]
  },
  {
   "cell_type": "code",
   "execution_count": 4,
   "metadata": {},
   "outputs": [
    {
     "name": "stdout",
     "output_type": "stream",
     "text": [
      "Node_a - Value:\t\t\t cats\n",
      "Node_a - Next Node - Value:\t dogs \n",
      "\n",
      "Node_b - Value:\t\t\t dogs\n",
      "Node_b - Next Node - Value:\t birds \n",
      "\n",
      "Node_c - Value:\t\t\t birds\n",
      "Node_c - Next Node - Value:\t ERROR - NODE LINKS TO NONE \n",
      "\n"
     ]
    }
   ],
   "source": [
    "node_a = Node('cats')\n",
    "node_b = Node('dogs')\n",
    "node_c = Node('birds')\n",
    "\n",
    "node_a.next = node_b\n",
    "node_b.next = node_c\n",
    "\n",
    "error = \"ERROR - NODE LINKS TO NONE\"\n",
    "try:\n",
    "    print(\"Node_a - Value:\\t\\t\\t\", node_a.val)\n",
    "    print(\"Node_a - Next Node - Value:\\t\", node_a.next.val, '\\n')\n",
    "\n",
    "    print(\"Node_b - Value:\\t\\t\\t\", node_b.val)\n",
    "    print(\"Node_b - Next Node - Value:\\t\", node_b.next.val, '\\n')\n",
    "\n",
    "    print(\"Node_c - Value:\\t\\t\\t\", node_c.val)\n",
    "    print(\"Node_c - Next Node - Value:\\t\", node_c.next.val, '\\n')\n",
    "\n",
    "except:\n",
    "    print(\"Node_c - Next Node - Value:\\t\", error, '\\n')"
   ]
  },
  {
   "cell_type": "markdown",
   "metadata": {},
   "source": [
    "# **Node Class and Constructor**\n",
    "Now that we’ve learned about doubly linked lists, let’s implement one in Python.\n",
    "\n",
    "As a reminder, a doubly linked list is a sequential chain of nodes, just like a singly linked list. The nodes we used for our singly linked lists contained two elements:\n",
    "\n",
    "- A value\n",
    "- A link to the next node\n",
    "\n",
    "The difference between a doubly linked list and a singly linked list is that in a doubly linked list, the nodes have pointers to the previous node as well as the next node. This means that the doubly linked list data structure has a tail property in addition to a head property, which allows for traversal in both directions.\n",
    "\n",
    "So the nodes we will use for our doubly linked list contain three elements:\n",
    "\n",
    "- A value\n",
    "- A pointer to the previous node\n",
    "- A pointer to the next node\n",
    "\n",
    "Depending on the end-use of the doubly linked list, there are a variety of methods that we can define.\n",
    "\n",
    "For our use, we want to be able to:\n",
    "\n",
    "- `Add` a new node to the `head (beginning)` of the list\n",
    "- `Add` a new node to the `tail (end)` of the list\n",
    "- `Remove` a node from the head of the list\n",
    "- `Remove` a node from the tail of the list\n",
    "- `Find` and `remove` a specific node by its value\n",
    "- `Print out` the nodes in the list in order from `head to tail`\n",
    "\n",
    "To start, we are going to look at the updated Node class and create the constructor.\n",
    "\n",
    "Ready? Let’s go!\n",
    "\n",
    "Note: We will reuse the `.stringify_list()` method from our LinkedList class, but we’re going to create the rest of the methods ourselves."
   ]
  },
  {
   "cell_type": "markdown",
   "metadata": {},
   "source": [
    "## **`class Node` - Doubly Linked List**"
   ]
  },
  {
   "cell_type": "code",
   "execution_count": 5,
   "metadata": {},
   "outputs": [],
   "source": [
    "class Node:\n",
    "    def __init__(self, value, next_node = None, prev_node = None):\n",
    "        self.value = value\n",
    "        self.next_node = next_node\n",
    "        self.prev_node = prev_node\n",
    "\n",
    "    def get_value(self):\n",
    "        return self.value\n",
    "\n",
    "    def get_next_node(self):\n",
    "        return self.next_node\n",
    "    \n",
    "    def set_next_node(self, next_node):\n",
    "        self.next_node = next_node\n",
    "\n",
    "    def get_prev_node(self):\n",
    "        return self.prev_node\n",
    "\n",
    "    def set_prev_node(self, prev_node):\n",
    "        self.prev_node = prev_node"
   ]
  },
  {
   "cell_type": "code",
   "execution_count": 6,
   "metadata": {},
   "outputs": [
    {
     "name": "stdout",
     "output_type": "stream",
     "text": [
      "Node_a - Value:\t\t\t cats\n",
      "Node_a - Next Node - Value:\t dogs \n",
      "\n",
      "Node_b - Value:\t\t\t dogs\n",
      "Node_b - Next Node - Value:\t birds\n",
      "Node_b - Prev Node - Value:\t cats \n",
      "\n",
      "Node_c - Value:\t\t\t birds\n",
      "Node_c - Prev Node - Value:\t dogs \n",
      "\n"
     ]
    }
   ],
   "source": [
    "node_a = Node('cats')\n",
    "node_b = Node('dogs')\n",
    "node_c = Node('birds')\n",
    "\n",
    "node_a.set_next_node(node_b)\n",
    "node_b.set_next_node(node_c)\n",
    "node_b.set_prev_node(node_a)\n",
    "node_c.set_prev_node(node_b)\n",
    "\n",
    "print(\"Node_a - Value:\\t\\t\\t\", node_a.get_value())\n",
    "print(\"Node_a - Next Node - Value:\\t\", node_a.get_next_node().get_value(), '\\n')\n",
    "# print(\"Node_a - Prev Node - Value:\\t\", node_a.get_prev_node().get_value(), '\\n')\n",
    "\n",
    "print(\"Node_b - Value:\\t\\t\\t\", node_b.get_value())\n",
    "print(\"Node_b - Next Node - Value:\\t\", node_b.get_next_node().get_value())\n",
    "print(\"Node_b - Prev Node - Value:\\t\", node_b.get_prev_node().get_value(), '\\n')\n",
    "\n",
    "print(\"Node_c - Value:\\t\\t\\t\", node_c.get_value())\n",
    "# print(\"Node_c - Next Node - Value:\\t\", node_c.get_next_node().get_value(), '\\n')\n",
    "print(\"Node_c - Prev Node - Value:\\t\", node_c.get_prev_node().get_value(), '\\n')"
   ]
  },
  {
   "cell_type": "markdown",
   "metadata": {},
   "source": [
    "## **`Node Implementation` - Doubly Linked List**"
   ]
  },
  {
   "cell_type": "code",
   "execution_count": 7,
   "metadata": {},
   "outputs": [],
   "source": [
    "class Node:\n",
    "    def __init__(self, val, next = None, prev = None):\n",
    "        self.val = val\n",
    "        self.next = next\n",
    "        self.prev = prev\n"
   ]
  },
  {
   "cell_type": "code",
   "execution_count": 8,
   "metadata": {},
   "outputs": [
    {
     "name": "stdout",
     "output_type": "stream",
     "text": [
      "Node_a - Value:\t\t\t cats\n",
      "Node_a - Next Node - Value:\t dogs \n",
      "\n",
      "Node_b - Value:\t\t\t dogs\n",
      "Node_b - Next Node - Value:\t birds\n",
      "Node_b - Prev Node - Value:\t cats \n",
      "\n",
      "Node_c - Value:\t\t\t birds\n",
      "Node_c - Prev Node - Value:\t dogs \n",
      "\n"
     ]
    }
   ],
   "source": [
    "node_a = Node('cats')\n",
    "node_b = Node('dogs')\n",
    "node_c = Node('birds')\n",
    "\n",
    "node_a.next = node_b\n",
    "node_b.next, node_b.prev = node_c, node_a\n",
    "node_c.prev = node_b\n",
    "\n",
    "print(\"Node_a - Value:\\t\\t\\t\", node_a.val)\n",
    "print(\"Node_a - Next Node - Value:\\t\", node_a.next.val, '\\n')\n",
    "# print(\"Node_a - Prev Node - Value:\\t\", node_a.prev.val, '\\n')\n",
    "\n",
    "print(\"Node_b - Value:\\t\\t\\t\", node_b.val)\n",
    "print(\"Node_b - Next Node - Value:\\t\", node_b.next.val)\n",
    "print(\"Node_b - Prev Node - Value:\\t\", node_b.prev.val, '\\n')\n",
    "\n",
    "print(\"Node_c - Value:\\t\\t\\t\", node_c.val)\n",
    "# print(\"Node_c - Next Node - Value:\\t\", node_c.next.val, '\\n')\n",
    "print(\"Node_c - Prev Node - Value:\\t\", node_c.prev.val, '\\n')"
   ]
  }
 ],
 "metadata": {
  "interpreter": {
   "hash": "d3a34553589bc94d7e0ad9e2282c64f1a53a0cd48a38bd36b997c5a184447af8"
  },
  "kernelspec": {
   "display_name": "Python 3.10.4 64-bit (system)",
   "language": "python",
   "name": "python3"
  },
  "language_info": {
   "codemirror_mode": {
    "name": "ipython",
    "version": 3
   },
   "file_extension": ".py",
   "mimetype": "text/x-python",
   "name": "python",
   "nbconvert_exporter": "python",
   "pygments_lexer": "ipython3",
   "version": "3.9.7"
  },
  "orig_nbformat": 4
 },
 "nbformat": 4,
 "nbformat_minor": 2
}
