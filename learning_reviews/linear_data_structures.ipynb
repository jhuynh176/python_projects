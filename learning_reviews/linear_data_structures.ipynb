{
 "cells": [
  {
   "cell_type": "markdown",
   "metadata": {},
   "source": [
    "# [**Linked List**](#class_linked_list_id)\n",
    "\n",
    "Now that you are familiar with nodes, the next step is to actually use them to build something! \n",
    "- `Linking` together nodes using their `next_node` property creates `a singly linked list`. \n",
    "- `Singly linked lists` are extremely versatile and useful, while also beautiful in their simplicity. \n",
    "- Like `nodes`, these lists are used as `foundations for future data structures` and are an `alternative to arrays` when trying to `store information in a linear way`."
   ]
  },
  {
   "cell_type": "markdown",
   "metadata": {},
   "source": [
    "## **Linked Lists: CONCEPTUAL**\n",
    "- Are comprised of nodes\n",
    "- The `nodes contain a link to the next node` (and also the previous node for bidirectional linked lists)\n",
    "- Can be `unidirectional` or `bidirectional`\n",
    "- Are a basic data structure, and form the basis for many other data structures\n",
    "- Have a `single head node`, which serves as the `first node in the list`\n",
    "- Require some maintenance in order to add or remove nodes\n",
    "- The methods we used are an example and depend on the exact use case and/or programming language being used"
   ]
  },
  {
   "cell_type": "markdown",
   "metadata": {},
   "source": [
    "## **Linked List Introduction**\n",
    "\n",
    "Linked lists are one of the basic data structures used in computer science. They have many direct applications and serve as the foundation for more complex data structures.\n",
    "\n",
    "The list is comprised of a series of nodes as shown in the diagram. The head node is the node at the beginning of the list. Each node contains data and a link (or pointer) to the next node in the list. The list is terminated when a node’s link is null. This is called the tail node.\n",
    "\n",
    "Consider a one-way air travel itinerary. The trip could involve traveling through several airports (nodes) connected by air travel segments (links). In this example, the initial departure city is the head node and the final arrival city is the tail node.\n",
    "\n",
    "Since the nodes use links to denote the next node in the sequence, the nodes are not required to be sequentially located in memory. These links also allow for quick insertion and removal of nodes as you will see in future exercises.\n",
    "\n",
    "Common operations on a linked list may include:\n",
    "\n",
    "- `adding nodes`\n",
    "- `removing nodes`\n",
    "- `finding a node`\n",
    "- `traversing (or traveling through) the linked list`\n",
    "\n",
    "Linked lists typically contain unidirectional links (next node), but some implementations make use of bidirectional links (next and previous nodes)."
   ]
  },
  {
   "cell_type": "markdown",
   "metadata": {},
   "source": [
    "## **Linked List Example**\n",
    "\n",
    "As an example, we added values to the linked list diagram from the introduction.\n",
    "\n",
    "This linked list contains three nodes (`node_a`, `node_b`, and `node_c`).\n",
    "\n",
    "Each node in this particular list contains a string as its data. As the sequence is defined, the order is `\"cats\"`, `\"dogs\"`, and `\"birds\"`.\n",
    "\n",
    "The list ends at `node_c`, since the link within that node is set to `null`.\n",
    "\n",
    "What links would need to be established to add a new head node to this list? What about the tail?"
   ]
  },
  {
   "cell_type": "markdown",
   "metadata": {},
   "source": [
    "## [**Node Implementation**](#class_node_id)"
   ]
  },
  {
   "cell_type": "code",
   "execution_count": 5,
   "metadata": {},
   "outputs": [],
   "source": [
    "class Node:\n",
    "    def __init__(self, val, next = None):\n",
    "        self.val = val\n",
    "        self.next = next"
   ]
  },
  {
   "cell_type": "code",
   "execution_count": 6,
   "metadata": {},
   "outputs": [
    {
     "name": "stdout",
     "output_type": "stream",
     "text": [
      "Node_a - Value:\t\t\t cats\n",
      "Node_a - Next Node - Value:\t dogs \n",
      "\n",
      "Node_b - Value:\t\t\t dogs\n",
      "Node_b - Next Node - Value:\t birds \n",
      "\n",
      "Node_c - Value:\t\t\t birds\n",
      "Node 3 - Next Node - Value:\t ERROR - NODE LINKS TO NONE \n",
      "\n"
     ]
    }
   ],
   "source": [
    "node_a = Node('cats')\n",
    "node_b = Node('dogs')\n",
    "node_c = Node('birds')\n",
    "\n",
    "node_a.next = node_b\n",
    "node_b.next = node_c\n",
    "\n",
    "error = \"ERROR - NODE LINKS TO NONE\"\n",
    "try:\n",
    "    print(\"Node_a - Value:\\t\\t\\t\", node_a.val)\n",
    "    print(\"Node_a - Next Node - Value:\\t\", node_a.next.val, '\\n')\n",
    "\n",
    "    print(\"Node_b - Value:\\t\\t\\t\", node_b.val)\n",
    "    print(\"Node_b - Next Node - Value:\\t\", node_b.next.val, '\\n')\n",
    "\n",
    "    print(\"Node_c - Value:\\t\\t\\t\", node_c.val)\n",
    "    print(\"Node_c - Next Node - Value:\\t\", node_c.next.val, '\\n')\n",
    "\n",
    "except:\n",
    "    print(\"Node 3 - Next Node - Value:\\t\", error, '\\n')"
   ]
  },
  {
   "cell_type": "markdown",
   "metadata": {},
   "source": [
    "## **Linked Lists Adding and Removing Nodes**\n",
    "\n",
    "With linked lists, because nodes are linked to from only one other node, you can’t just go adding and removing nodes willy-nilly without doing a bit of maintenance.\n",
    "\n",
    "## **Adding a new node**\n",
    "\n",
    "Adding a new node to the beginning of the list requires you to link your new node to the current head node. This way, you maintain your connection with the following nodes in the list.\n",
    "\n",
    "## **Removing a node**\n",
    "\n",
    "If you accidentally remove the single link to a node, that node’s data and any following nodes could be lost to your application, leaving you with orphaned nodes.\n",
    "\n",
    "To properly maintain the list when removing a node from the middle of a linked list, you need to be sure to adjust the link on the previous node so that it points to the following node.\n",
    "\n",
    "Depending on the language, nodes which are not referenced are removed automatically. “Removing” a node is equivalent to removing all references to the node.\n",
    "\n"
   ]
  },
  {
   "cell_type": "markdown",
   "metadata": {},
   "source": [
    "## **Linked List Implementation I**\n",
    "\n",
    "With the `Node` in hand, we can start building the actual linked list. Depending on the end-use of the linked list, a variety of methods can be defined.\n",
    "\n",
    "For our use, we want to be able to:\n",
    "\n",
    "- get the head node of the list (it’s like peeking at the first item in line)\n",
    "- add a new node to the beginning of the list\n",
    "- print out the list values in order\n",
    "- remove a node that has a particular value\n",
    "\n",
    "<a id='#class_node_id'> Links to Node </a>"
   ]
  }
 ],
 "metadata": {
  "interpreter": {
   "hash": "a707b6ce8c685eb936424fcc3009d4b4b7a52543c4db09380a3fc49186ceb509"
  },
  "kernelspec": {
   "display_name": "Python 3 (ipykernel)",
   "language": "python",
   "name": "python3"
  },
  "language_info": {
   "codemirror_mode": {
    "name": "ipython",
    "version": 3
   },
   "file_extension": ".py",
   "mimetype": "text/x-python",
   "name": "python",
   "nbconvert_exporter": "python",
   "pygments_lexer": "ipython3",
   "version": "3.9.7"
  }
 },
 "nbformat": 4,
 "nbformat_minor": 2
}
