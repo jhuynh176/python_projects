{
 "cells": [
  {
   "cell_type": "markdown",
   "metadata": {},
   "source": [
    "# **Swapping Elements in a Linked List**\n",
    "\n",
    "## *Learn how to swap two nodes in a singly linked list in Python.*\n",
    "\n",
    "Since singly linked lists only have pointers from each node to its next node, swapping two nodes in the list isn’t as easy as doing so in an array (where you have access to the indices). You not only have to find the elements, but also reset their surrounding pointers to maintain the integrity of the list. This means keeping track of the two nodes to be swapped as well as the nodes preceding them.\n",
    "\n",
    "Given a linked list and the elements to be swapped (`val1` and `val2`), we need to keep track of four values:\n",
    "\n",
    "- `node1`: the node that matches `val1`\n",
    "- `node1_prev`: `node1`‘s previous node\n",
    "- `node2`: the node that matches val2\n",
    "- `node2_prev`: `node2`‘s previous node\n",
    "  \n",
    "Given an input of a linked list, `val1`, and `val2`, the general steps for doing so is as follows:\n",
    "\n",
    "1. Iterate through the list looking for the node that matches `val1` to be swapped (`node1`), keeping track of the node’s previous node as you iterate (`node1_prev`)\n",
    "2. Repeat step 1 looking for the node that matches `val2` (giving you `node2` and `node2_prev`)\n",
    "3. If `node1_prev` is None, `node1` was the head of the list, so set the list’s head to `node2`\n",
    "4. Otherwise, set `node1_prev`‘s next node to `node2`\n",
    "5. If `node2_prev` is None, set the list’s head to `node1`\n",
    "6. Otherwise, set `node2_prev`‘s next node to `node1`\n",
    "7. Set `node1`‘s next node to `node2`‘s next node\n",
    "8. Set `node2`‘s next node to `node1`‘s next node\n",
    "\n",
    "\n",
    "## *Finding the Matching and Preceding Nodes*\n",
    "\n",
    "Let’s look at what implementing steps 1 and 2 looks like. In order to swap the two nodes, we must first find them. We also need to keep track of the nodes that precede them so that we can properly reset their pointers. (We will use the Node class’s `.get_next_node()` method in order to access the next node.)\n",
    "\n",
    "We will start by setting `node1` equal to the head of the list, and then creating a while loop that runs while `node1` isn’t None. Inside the loop, we will check if `node1`‘s value matches `val1`. If so, we break out of the loop as we have found the correct node. If there is no match, we update `node1_prev` to be `node1` and move `node1` to its next node:"
   ]
  },
  {
   "cell_type": "code",
   "execution_count": null,
   "metadata": {},
   "outputs": [],
   "source": [
    "def swap_nodes(input_list, val1, val2):\n",
    "    node1 = input_list.head_node\n",
    "    node2 = input_list.head_node\n",
    "    node1_prev = None\n",
    "    node2_prev = None\n",
    "    \n",
    "    while node1 is not None:\n",
    "        if node1.get_value() == val1:\n",
    "            break\n",
    "        node1_prev = node1\n",
    "        node1 = node1.get_next_node()"
   ]
  },
  {
   "cell_type": "markdown",
   "metadata": {},
   "source": [
    "## *Updating the Preceding Nodes’ Pointers*\n",
    "\n",
    "Our next step is to set `node1_prev` and `node2_prev`‘s next nodes, starting with `node1_prev`. We’ll begin by checking if `node1_prev` is `None`. If it is, then the `node1` is the head of the list, and so we will update the head to be `node2`. If `node1_prev` isn’t `None`, then we set its next node to `node2`:"
   ]
  },
  {
   "cell_type": "code",
   "execution_count": null,
   "metadata": {},
   "outputs": [],
   "source": [
    "# Still inside the swap_nodes() function\n",
    "    if node1_prev is None:\n",
    "        input_list.head_node = node2\n",
    "    else:\n",
    "        node1_prev.set_next_node(node2);\n",
    "\n"
   ]
  },
  {
   "cell_type": "markdown",
   "metadata": {},
   "source": [
    "After this step, we have finished updating the pointers that point to our swapped nodes. The next step will be to update the pointers from them."
   ]
  },
  {
   "cell_type": "code",
   "execution_count": null,
   "metadata": {},
   "outputs": [],
   "source": [
    "# Still inside the swap_nodes() function\n",
    "    if node2_prev is None:\n",
    "        input_list.head_node = node1\n",
    "    else:\n",
    "        node2_prev.set_next_node(node1)"
   ]
  },
  {
   "cell_type": "markdown",
   "metadata": {},
   "source": [
    "## *Updating the Nodes’ Next Pointers*\n",
    "\n",
    "The last step is to update the pointers from node1 and node2. This is relatively simple, and mirrors a swapping function for an array in that we will use a temporary variable."
   ]
  },
  {
   "cell_type": "code",
   "execution_count": null,
   "metadata": {},
   "outputs": [],
   "source": [
    "temp = node1.get_next_node()\n",
    "node1.set_next_node(node2.get_next_node())\n",
    "node2.set_next_node(temp)"
   ]
  },
  {
   "cell_type": "markdown",
   "metadata": {},
   "source": [
    "## *Edge Cases*\n",
    "\n",
    "We have completed the basic swap algorithm in Python! However, we haven’t accounted for some edge cases. What if there is no matching node for one of the inputs? The current `swap_nodes()` function will not run because we will try to access the next node of a node that is None. (Remember that our initial while loop only breaks if the matching node is found. Otherwise, it runs until the node is None.)\n",
    "\n",
    "Thankfully this has a quick fix. We can put in an if that checks if either node1 or node2 is None. If they are, we can print a statement that explains a match was not found, and return to end the method. We can put this right after the while loops that iterate through the list to find the matching nodes:"
   ]
  },
  {
   "cell_type": "code",
   "execution_count": null,
   "metadata": {},
   "outputs": [],
   "source": [
    "if (node1 is None or node2 is None):\n",
    "  print(\"Swap not possible - one or more element is not in the list\")\n",
    "  return"
   ]
  },
  {
   "cell_type": "markdown",
   "metadata": {},
   "source": [
    "The last edge case is if the two nodes to be swapped are the same. While our current implementation will run without error, there’s no point in executing the whole function if it isn’t necessary. We can add a brief check at the beginning of the function that checks if the val1 is the same as val2, and then return to end the function:"
   ]
  },
  {
   "cell_type": "code",
   "execution_count": null,
   "metadata": {},
   "outputs": [],
   "source": [
    "if val1 == val2:\n",
    "  print(\"Elements are the same - no swap needed\")\n",
    "  return"
   ]
  },
  {
   "cell_type": "markdown",
   "metadata": {},
   "source": [
    "## **`The Finished Function`**"
   ]
  },
  {
   "cell_type": "code",
   "execution_count": null,
   "metadata": {},
   "outputs": [],
   "source": [
    "from node import Node\n",
    "from linked_list import LinkedList\n",
    "\n",
    "def swap_nodes(input_list, val1, val2):\n",
    "  print(f'Swapping {val1} with {val2}')\n",
    "\n",
    "  node1_prev = None\n",
    "  node2_prev = None\n",
    "  node1 = input_list.head_node\n",
    "  node2 = input_list.head_node\n",
    "\n",
    "  if val1 == val2:\n",
    "    print(\"Elements are the same - no swap needed\")\n",
    "    return\n",
    "\n",
    "  while node1 is not None:\n",
    "    if node1.get_value() == val1:\n",
    "      break\n",
    "    node1_prev = node1\n",
    "    node1 = node1.get_next_node()\n",
    "\n",
    "  while node2 is not None:\n",
    "    if node2.get_value() == val2:\n",
    "      break\n",
    "    node2_prev = node2\n",
    "    node2 = node2.get_next_node()\n",
    "\n",
    "  if (node1 is None or node2 is None):\n",
    "    print(\"Swap not possible - one or more element is not in the list\")\n",
    "    return\n",
    "\n",
    "  if node1_prev is None:\n",
    "    input_list.head_node = node2\n",
    "  else:\n",
    "    node1_prev.set_next_node(node2)\n",
    "\n",
    "  if node2_prev is None:\n",
    "    input_list.head_node = node1\n",
    "  else:\n",
    "    node2_prev.set_next_node(node1)\n",
    "\n",
    "  temp = node1.get_next_node()\n",
    "  node1.set_next_node(node2.get_next_node())\n",
    "  node2.set_next_node(temp)\n",
    "\n",
    "\n",
    "ll = LinkedList.LinkedList()\n",
    "for i in range(10):\n",
    "  ll.insert_beginning(i)\n",
    "\n",
    "print(ll.stringify_list())\n",
    "swap_nodes(ll, 9, 5)\n",
    "print(ll.stringify_list())"
   ]
  },
  {
   "cell_type": "markdown",
   "metadata": {},
   "source": [
    "## **Time and Space Complexity**\n",
    "\n",
    "The worst case for time complexity in swap_nodes() is if both while loops must iterate all the way through to the end (either if there are no matching nodes, or if the matching node is at the tail). This means that it has a linear big O runtime of O(n), since each while loop has a O(n) runtime, and constants are dropped.\n",
    "\n",
    "There are four new variables created in the function regardless of the input, which means that it has a constant space complexity of O(1)."
   ]
  }
 ],
 "metadata": {
  "interpreter": {
   "hash": "a707b6ce8c685eb936424fcc3009d4b4b7a52543c4db09380a3fc49186ceb509"
  },
  "kernelspec": {
   "display_name": "Python 3.9.7 ('base')",
   "language": "python",
   "name": "python3"
  },
  "language_info": {
   "codemirror_mode": {
    "name": "ipython",
    "version": 3
   },
   "file_extension": ".py",
   "mimetype": "text/x-python",
   "name": "python",
   "nbconvert_exporter": "python",
   "pygments_lexer": "ipython3",
   "version": "3.9.7"
  },
  "orig_nbformat": 4
 },
 "nbformat": 4,
 "nbformat_minor": 2
}
