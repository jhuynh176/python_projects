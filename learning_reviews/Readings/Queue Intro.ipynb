{
 "cells": [
  {
   "cell_type": "markdown",
   "metadata": {},
   "source": [
    "# **Queue Intro**\n",
    "\n",
    "A `queue` is a `data structure` with the `\"first in, first out\"` property. That is, an item can be inserted and removed from the queue, but an item can only be removed from the queue after all the items added before it are removed first.\n",
    "\n",
    "It supports three operations:\n",
    "\n",
    "- `Insert` (or \"`Push`\"): Putting an item into the end of the queue.\n",
    "- `Peek`: Look at the first item of the queue.\n",
    "- `Remove` (or \"`Pop`\"): Remove the first item of the queue.\n",
    "  \n",
    "It is pretty much like a queue in real life: First come, first serve.\n",
    "\n",
    "A `deque` is a double-ended queue. That means that inserting and removing items from the queue can be done on both end.\n",
    "\n",
    "## **Implementation**\n",
    "\n",
    "The implementation of a queue is similar to a stack: we use an array and two pointers, one pointing to the start of the queue, and one pointing at the end of the queue.\n",
    "\n",
    "When inserting an item into the queue, we set the entry at the end pointer to the value and increase the end pointer by one. When removing an item from the queue, we increase the start pointer by one.\n",
    "\n",
    "For a `deque`, we can use the same logic, but we allow the `increment` and `decrement` of both start and end pointers.\n",
    "\n",
    "One of the flaws of the current implementation is that when one of the queue pointers reaches the end of the array, it will cause an overflow. However, if some elements have been removed from the other end, then when the queue overflows, there are still a lot of unused empty spaces, which is not ideal.\n",
    "\n",
    "An improvement that can be done on this implementation is to make the array \"loop\". When a pointer tries to move past the array, it loops around to the other end of the array instead. This is known as a Circular Buffer.\n",
    "\n",
    "This works on both queues and deques.\n",
    "\n",
    "\n",
    "Most modern programming languages offer a built-in deque data structure, and they often use a dynamic array as its underlying data structure (although they can also use a double-linked list, like Python's deque class). You won't have to worry about deques overflowing because the resizing of the array is handled for you.\n",
    "\n",
    "For Python, you can use the deque class of the collections module.\n"
   ]
  },
  {
   "cell_type": "code",
   "execution_count": 25,
   "metadata": {},
   "outputs": [
    {
     "name": "stdout",
     "output_type": "stream",
     "text": [
      "Initialize a new deque\n",
      "\n",
      "Add 2 to the end of the deque\n",
      "deque([2])\n",
      "\n",
      "Add 4 to the front of the deque\n",
      "deque([4, 2])\n",
      "\n",
      "Add 2 to the end of the deque\n",
      "deque([4, 2, 3])\n",
      "\n",
      "Look at the end of the deque and print it\n",
      "3\n",
      "\n",
      "Look at the front of the deque and print it\n",
      "4\n",
      "\n",
      "Remove the end of the deque\n",
      "deque([4, 2])\n",
      "\n",
      "Remove the front of the deque\n",
      "deque([2])\n"
     ]
    }
   ],
   "source": [
    "from collections import deque\n",
    "\n",
    "print(\"Initialize a new deque\")\n",
    "queue = deque()\n",
    "\n",
    "print(\"\\nAdd 2 to the end of the deque\")\n",
    "queue.append(2)\n",
    "print(queue)\n",
    "\n",
    "print(\"\\nAdd 4 to the front of the deque\")\n",
    "queue.appendleft(4)\n",
    "print(queue)\n",
    "\n",
    "print(\"\\nAdd 2 to the end of the deque\")\n",
    "queue.append(3)\n",
    "print(queue)\n",
    "\n",
    "print(\"\\nLook at the end of the deque and print it\")\n",
    "print(queue[-1])\n",
    "\n",
    "print(\"\\nLook at the front of the deque and print it\")\n",
    "print(queue[0])\n",
    "\n",
    "print(\"\\nRemove the end of the deque\")\n",
    "queue.pop()\n",
    "print(queue)\n",
    "\n",
    "print(\"\\nRemove the front of the deque\")\n",
    "queue.popleft()\n",
    "print(queue)"
   ]
  }
 ],
 "metadata": {
  "interpreter": {
   "hash": "a707b6ce8c685eb936424fcc3009d4b4b7a52543c4db09380a3fc49186ceb509"
  },
  "kernelspec": {
   "display_name": "Python 3.9.7 ('base')",
   "language": "python",
   "name": "python3"
  },
  "language_info": {
   "name": "python",
   "version": "3.9.7"
  },
  "orig_nbformat": 4
 },
 "nbformat": 4,
 "nbformat_minor": 2
}
