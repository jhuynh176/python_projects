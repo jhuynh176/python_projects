{
 "cells": [
  {
   "cell_type": "markdown",
   "metadata": {},
   "source": [
    "# **Python Basic Data Structures**"
   ]
  },
  {
   "cell_type": "markdown",
   "metadata": {},
   "source": [
    "## **`Array`**\n",
    "\n",
    "Python's list is internally implemented as an array. Access an element by an index is `O(1)`.\n"
   ]
  },
  {
   "cell_type": "markdown",
   "metadata": {},
   "source": [
    "## **`Indexing`**\n",
    "\n",
    "Negative indices are also allowed. A handy way to access the last element is:"
   ]
  },
  {
   "cell_type": "code",
   "execution_count": 37,
   "metadata": {},
   "outputs": [
    {
     "data": {
      "text/plain": [
       "3"
      ]
     },
     "execution_count": 37,
     "metadata": {},
     "output_type": "execute_result"
    }
   ],
   "source": [
    "a = [1, 2, 3]\n",
    "a[-1]\n"
   ]
  },
  {
   "cell_type": "markdown",
   "metadata": {},
   "source": [
    "Subarray slicing indices are left-inclusive and right-exclusive. For example"
   ]
  },
  {
   "cell_type": "code",
   "execution_count": 38,
   "metadata": {},
   "outputs": [
    {
     "data": {
      "text/plain": [
       "[20, 30, 40]"
      ]
     },
     "execution_count": 38,
     "metadata": {},
     "output_type": "execute_result"
    }
   ],
   "source": [
    "a = [0, 10, 20, 30, 40, 50]\n",
    "a[2:5] # element from index 2 to index 4 (cuz right exclusive, 5-1=4)\n"
   ]
  },
  {
   "cell_type": "markdown",
   "metadata": {},
   "source": [
    "This is very important. Mishandling the right-exclusivity is a common source of error in coding interview problems such as two-pointer problems.\n",
    "\n",
    "There's also a shorthand for slicing from element 0. For example:"
   ]
  },
  {
   "cell_type": "code",
   "execution_count": 39,
   "metadata": {},
   "outputs": [
    {
     "data": {
      "text/plain": [
       "[0, 10]"
      ]
     },
     "execution_count": 39,
     "metadata": {},
     "output_type": "execute_result"
    }
   ],
   "source": [
    "a = [0, 10, 20, 30, 40, 50]\n",
    "a[:2]\n"
   ]
  },
  {
   "cell_type": "markdown",
   "metadata": {},
   "source": [
    "and slicing until"
   ]
  },
  {
   "cell_type": "code",
   "execution_count": 40,
   "metadata": {},
   "outputs": [
    {
     "data": {
      "text/plain": [
       "[20, 30, 40, 50]"
      ]
     },
     "execution_count": 40,
     "metadata": {},
     "output_type": "execute_result"
    }
   ],
   "source": [
    "a = [0, 10, 20, 30, 40, 50]\n",
    "a[2:]\n"
   ]
  },
  {
   "cell_type": "markdown",
   "metadata": {},
   "source": [
    "> A note on right-exclusivity. Array and list indices are left inclusive and right exclusive in most languages including Python and Java. The reason for this design is up for speculation. \n",
    "> \n",
    "> According to a stackover flow post, Python inventor Guido Van Rossum was quoted as saying \"I was swayed by the elegance of half-open intervals. \n",
    "> \n",
    "> Especially the invariant that when two slices are adjacent, the first slice's end index is the second slice's start index is just too beautiful to ignore. \n",
    "> \n",
    "> For example, suppose you split a string into three parts at indices i and j -- the parts would be a[:i], a[i:j], and a[j:].\" For our practical purposes in solving coding problems, we often have to deal with edge cases such as an empty list. \n",
    "> \n",
    "> And this notation becomes convenient because to represent an empty array we can write a[i:i] instead of the more awkward ar[i:i-1]."
   ]
  },
  {
   "cell_type": "markdown",
   "metadata": {},
   "source": [
    "In general, to iterate through a list, `for` loop is easier to reason than `while` since there's no condition to manage that could skip elements. You can also use `enumerate` to get both index and element at the same time."
   ]
  },
  {
   "cell_type": "code",
   "execution_count": 41,
   "metadata": {},
   "outputs": [
    {
     "name": "stdout",
     "output_type": "stream",
     "text": [
      "0 0\n",
      "1 10\n",
      "2 20\n",
      "3 30\n",
      "4 40\n",
      "5 50\n"
     ]
    }
   ],
   "source": [
    "nums = [0, 10, 20, 30, 40, 50]\n",
    "\n",
    "for i, num in enumerate(nums):\n",
    "    print(i, num)\n",
    "    "
   ]
  },
  {
   "cell_type": "markdown",
   "metadata": {},
   "source": [
    "## **`Linked List`**\n",
    "\n",
    "Python doesn't have a built-in linked list. Normally at an interview, you'll be given a definition like this"
   ]
  },
  {
   "cell_type": "code",
   "execution_count": 42,
   "metadata": {},
   "outputs": [],
   "source": [
    "class LinkedListNode:\n",
    "    def __init__(self, val, next=None):\n",
    "        self.val = val\n",
    "        self.next = next\n",
    "        "
   ]
  },
  {
   "cell_type": "markdown",
   "metadata": {},
   "source": [
    "- append to end is O(1).\n",
    "- finding an element is O(N).\n",
    "\n",
    "Besides problems that specifically ask for linked lists, you don't normally define and use linked list. If you need a list with O(1) append you can use the built-in list, and if you want O(1) for both prepend and append you can use the built-in deque.\n"
   ]
  },
  {
   "cell_type": "markdown",
   "metadata": {},
   "source": [
    "## **`Stack`**\n",
    "\n",
    "Python's `list` also doubles as a stack. For a list `l = []`\n",
    "\n",
    "- `push`: append, O(1)\n",
    "- `pop`: pop,O(1)\n",
    "- `size`: len(l), O(1)\n",
    "- `top`: l[0], O(1)\n",
    "  \n",
    "Stack is arguably the most magical data structure in computer science. In fact, with `two stacks and a finite-state machine` you can build a Turing Machine that can solve any problem a computer can solve.\n",
    "\n",
    "Recursion and function calls are implemented with stack behind the scene. We'll discuss this in the `recursion review` module."
   ]
  },
  {
   "cell_type": "markdown",
   "metadata": {},
   "source": [
    "## **`Queue`**\n",
    "\n",
    "Python's `collections.deque` is a double-ended queue, which means you can push and pop an element from either end in constant time. In the coding interviews, this is what we normally use when we need a queue. For a deque `q = deque()`\n",
    "\n",
    "`enqueue`: q.append, O(1)\n",
    "`dequeue`: q.popleft(), O(1). Note that it's `pop*left*. pop` is also supported but it's for getting element at the end of the double-ended queue.\n",
    "`size`: len(q), O(1)\n",
    "\n",
    "In coding interviews, we see queues most often in breath-first search. We'll also cover monotonic deque where elements are sorted inside the deque that is useful in solving some advanced coding problems."
   ]
  },
  {
   "cell_type": "markdown",
   "metadata": {},
   "source": [
    "## **`Hash Table`**\n",
    "\n",
    "Python's `dict` is an implementation of the hash table. For a dictionary `d = {}`,\n",
    "\n",
    "- get using a key: `d[key]`, `O(1)`\n",
    "- set a key, value: `d[key]` `= value`, `O(1)`\n",
    "- remove a key: del `d[key]`, `O(1)`\n",
    "  \n",
    "It's worth mentioning that these are average case time complexity. A hash table's worse time complexity is actually `O(N)` due to `hash collision` and other things. For the vast majority of the cases and certainly most coding interviews, the assumption of constant time lookup/insert/delete is valid.\n",
    "\n",
    "Use a hash table if you want to create a mapping from A to B. Many starter interview problems can be solved with a hash table.\n",
    "\n",
    "For counting things, python has a convenient class `Counter`."
   ]
  },
  {
   "cell_type": "markdown",
   "metadata": {},
   "source": [
    "## **`Hash Set`**\n",
    "\n",
    "Python's `set` is an implementation of hash set. It's useful in answering the existence queries in constant time. For a set `s = set()`,\n",
    "\n",
    "- is `a` in set `s`: `a in s`, `O(1)`\n",
    "- adding `a` to set: `s.add(a)`, `O(1)`. Duplicates will be discarded.\n",
    "- removing `a` from set: `s.remove(a)`, `O(1)`. Does nothing if `a` is not in a set.\n",
    "  \n",
    "Hash set is useful when you only need to know existence of a key. Example use cases include DFS and BFS on graphs."
   ]
  },
  {
   "cell_type": "markdown",
   "metadata": {},
   "source": [
    "## **`Tree`**\n",
    "\n",
    "Python does not have built-in `tree` support. Normally at an interview, you'd be given the following implementation for `binary tree`."
   ]
  },
  {
   "cell_type": "code",
   "execution_count": 43,
   "metadata": {},
   "outputs": [],
   "source": [
    "class TreeNode:\n",
    "    def __init__(self, val):\n",
    "        self.val = val\n",
    "        self.left = None\n",
    "        self.right = None\n",
    "        "
   ]
  },
  {
   "cell_type": "markdown",
   "metadata": {},
   "source": [
    "For n-nary trees:"
   ]
  },
  {
   "cell_type": "code",
   "execution_count": 44,
   "metadata": {},
   "outputs": [],
   "source": [
    "class TreeNode:\n",
    "    def __init__(self, val):\n",
    "        self.val = val\n",
    "        self.children = []\n",
    "        "
   ]
  },
  {
   "cell_type": "markdown",
   "metadata": {},
   "source": [
    "## **`Priority Queue and Graph`**\n",
    "\n",
    "We will cover more advanced data structures in later modules, `priority queue` and `graph`.\n",
    "\n",
    "For details on python data structure's runtime refer to python's official wiki."
   ]
  }
 ],
 "metadata": {
  "interpreter": {
   "hash": "a707b6ce8c685eb936424fcc3009d4b4b7a52543c4db09380a3fc49186ceb509"
  },
  "kernelspec": {
   "display_name": "Python 3.9.7 ('base')",
   "language": "python",
   "name": "python3"
  },
  "language_info": {
   "codemirror_mode": {
    "name": "ipython",
    "version": 3
   },
   "file_extension": ".py",
   "mimetype": "text/x-python",
   "name": "python",
   "nbconvert_exporter": "python",
   "pygments_lexer": "ipython3",
   "version": "3.9.7"
  },
  "orig_nbformat": 4
 },
 "nbformat": 4,
 "nbformat_minor": 2
}
