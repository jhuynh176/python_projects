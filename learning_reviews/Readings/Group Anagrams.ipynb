{
 "cells": [
  {
   "cell_type": "markdown",
   "metadata": {},
   "source": [
    "# **Group Anagrams**\n",
    "\n",
    "Given a list of strings, return a list of string lists that groups all anagrams together. Two strings are anagrams if rearranging one string results in another. For the purpose of this question, a string is an anagram of itself.\n",
    "\n",
    "Each group of anagrams should be in alphabetical order. The output should be in alphabetical order by the first elements of each group of anagrams.\n",
    "\n",
    "## **Input**\n",
    "\n",
    "strs: a list of strings.\n",
    "\n",
    "## **Output**\n",
    "\n",
    "A list of string lists representing the grouped anagrams.\n",
    "\n",
    "Examples\n",
    "\n",
    "Input: \n",
    "\n",
    "`strs = [\"eat\" ,\"tea\", \"tan\", \"ate\", \"nat\", \"bat\"]`\n",
    " \n",
    "Output: \n",
    "\n",
    "`[[\"ate\", \"eat\", \"tea\"], [\"bat\"], [\"nat\", \"tan\"]]`\n",
    "\n",
    "Constraints:\n",
    "\n",
    "- `1 <= len(strs) <= 10^4`\n",
    "- `1 <= len(strs[i]) <= 100`\n",
    "- Each word in the input consists of lowercase English letters, and they might not be unique."
   ]
  },
  {
   "cell_type": "markdown",
   "metadata": {},
   "source": [
    "## **`Try it yourself`**"
   ]
  },
  {
   "cell_type": "code",
   "execution_count": 1,
   "metadata": {},
   "outputs": [
    {
     "name": "stdout",
     "output_type": "stream",
     "text": [
      "Input:\t ['eat', 'tea', 'tan', 'ate', 'nat', 'bat'] \n",
      "\n",
      "Output:\n"
     ]
    }
   ],
   "source": [
    "from typing import List\n",
    "\n",
    "def group_anagrams(strs: List[str]) -> List[List[str]]:\n",
    "    # WRITE YOUR BRILLIANT CODE HERE\n",
    "    \n",
    "    return []\n",
    "\n",
    "if __name__ == '__main__':\n",
    "    strs = [\"eat\" ,\"tea\", \"tan\", \"ate\", \"nat\", \"bat\"]\n",
    "    print(\"Input:\\t\", strs, \"\\n\\nOutput:\")\n",
    "    # strs = input().split()\n",
    "    res = group_anagrams(strs)\n",
    "    for row in res:\n",
    "        row.sort()\n",
    "    res.sort(key=lambda row: row[0])\n",
    "    for row in res:\n",
    "        print(' '.join(row))"
   ]
  },
  {
   "cell_type": "markdown",
   "metadata": {},
   "source": [
    "## **`Solution`**\n",
    "\n",
    "For this problem, consider what happens when two strings are anagrams: if we sort them both by character, then they will result in the same string. When two strings are not anagrams, then this value will always be different.\n",
    "\n",
    "In that case, we can use a hashmap to store the information, with the key being the \"anagram ID\" (the sorted value of the string), and the entry being a list of strings with the same anagram IDs. Everything under the same ID must be anagrams, while everything outside of it are not.\n",
    "\n",
    "It has a time complexity of `O(n * mlog(m))`, where `n` is the number of strings and `m` is the max size of each string."
   ]
  },
  {
   "cell_type": "code",
   "execution_count": 2,
   "metadata": {},
   "outputs": [
    {
     "name": "stdout",
     "output_type": "stream",
     "text": [
      "Input:\t ['eat', 'tea', 'tan', 'ate', 'nat', 'bat'] \n",
      "\n",
      "Output:\n",
      "ate eat tea\n",
      "bat\n",
      "nat tan\n"
     ]
    }
   ],
   "source": [
    "from typing import List\n",
    "\n",
    "def group_anagrams(strs: List[str]) -> List[List[str]]:\n",
    "    anagram_map = {}\n",
    "    for entry in strs:\n",
    "        anagram_id = \"\".join(sorted(entry))\n",
    "        if anagram_id in anagram_map:\n",
    "            anagram_map[anagram_id].append(entry)\n",
    "        else:\n",
    "            anagram_map[anagram_id] = [entry]\n",
    "    return list(anagram_map.values())\n",
    "\n",
    "if __name__ == '__main__':\n",
    "    strs = [\"eat\" ,\"tea\", \"tan\", \"ate\", \"nat\", \"bat\"]\n",
    "    print(\"Input:\\t\", strs, \"\\n\\nOutput:\")\n",
    "    # strs = input().split()\n",
    "    res = group_anagrams(strs)\n",
    "    for row in res:\n",
    "        row.sort()\n",
    "    res.sort(key=lambda row: row[0])\n",
    "    for row in res:\n",
    "        print(' '.join(row))"
   ]
  }
 ],
 "metadata": {
  "interpreter": {
   "hash": "a707b6ce8c685eb936424fcc3009d4b4b7a52543c4db09380a3fc49186ceb509"
  },
  "kernelspec": {
   "display_name": "Python 3.9.7 ('base')",
   "language": "python",
   "name": "python3"
  },
  "language_info": {
   "codemirror_mode": {
    "name": "ipython",
    "version": 3
   },
   "file_extension": ".py",
   "mimetype": "text/x-python",
   "name": "python",
   "nbconvert_exporter": "python",
   "pygments_lexer": "ipython3",
   "version": "3.9.7"
  },
  "orig_nbformat": 4
 },
 "nbformat": 4,
 "nbformat_minor": 2
}
