{
 "cells": [
  {
   "cell_type": "markdown",
   "metadata": {},
   "source": [
    "*Jump to*:\n",
    "- [Insertion Sort](#insertion-sort)\n",
    "- [Selection Sort](#selection-sort)\n",
    "- [Bubble Sort](#bubble-sort)\n",
    "- [Merge Sort](#merge-sort)\n",
    "- [Quick Sort](#quick-sort)"
   ]
  },
  {
   "cell_type": "markdown",
   "metadata": {},
   "source": [
    "# **Intro to Sorting**\n",
    "\n",
    "Sorting is one of the most fundamental algorithms in computer programming. A lot of algorithms rely on dealing with sorted lists, and a lot of questions requires a sorted list to be outputted. As such, it is important to understand how they work.\n",
    "\n",
    "While most programming languages offer a sorting function, it is still a very useful algorithm to know so you can understand them better.\n",
    "\n",
    "There are some terms that you need to be familiar with when talking about sorting algorithms.\n",
    "\n",
    "First, you must be familiar with Time Complexity so you know which algorithms are better in terms of run time.\n",
    "\n",
    "A `stable` sorting algorithm means that when two elements have the same value, their relative order is maintained. For example, if we are sorting a hand of cards, and we have a Seven of Hearts before a Seven of Spades in the initial hand, after a stable sort, the Seven of Hearts is still before the Seven of Spades, because their values are the same. However, in an unstable algorithm, the Seven of Spades might appear before the Seven of Hearts. The above is only true when we are comparing the cards by value, not suit. That is, two cards of the same value can be different.\n",
    "\n",
    "An `in-place` sorting algorithm means that the algorithm does not use additional data structure to hold temporary data. Additional memory cannot be avoided (as swapping two elements involve additional memory), but they should be something like a temporary variable that uses very little additional memory."
   ]
  },
  {
   "cell_type": "code",
   "execution_count": 22,
   "metadata": {},
   "outputs": [
    {
     "name": "stdout",
     "output_type": "stream",
     "text": [
      "Insertion Sorted:\t [8, 2, 3, 5, 9, 7, 6, 4, 1] --> [1, 2, 3, 4, 5, 6, 7, 8, 9]\n",
      "Selection Sorted:\t [2, 7, 3, 6, 9, 1, 4, 8, 5] --> [1, 2, 3, 4, 5, 6, 7, 8, 9]\n",
      "Bubble Sort:\t\t [8, 9, 6, 5, 4, 2, 3, 7, 1] --> [1, 2, 3, 4, 5, 6, 7, 8, 9]\n",
      "Merge Sort:\t\t [6, 4, 5, 8, 9, 7, 3, 2, 1] --> [1, 2, 3, 4, 5, 6, 7, 8, 9]\n",
      "Quick Sort:\t\t [7, 8, 2, 4, 9, 5, 1, 3, 6] --> [1, 2, 3, 4, 5, 6, 7, 8, 9]\n"
     ]
    }
   ],
   "source": [
    "from typing import List\n",
    "import copy\n",
    "import random\n",
    "\n",
    "list1 = random.sample(range(1, 10), 9)\n",
    "list2 = random.sample(range(1, 10), 9)\n",
    "list3 = random.sample(range(1, 10), 9)\n",
    "list4 = random.sample(range(1, 10), 9)\n",
    "list5 = random.sample(range(1, 10), 9)\n",
    "\n",
    "# 1. sort temp big to right, \n",
    "# 2. then sort until left side sorted, \n",
    "# 3. repeat step 1-2\n",
    "def insertion_sort(unsorted_list):\n",
    "    size = len(unsorted_list)\n",
    "    for i in range(size):\n",
    "        current_index = i\n",
    "        while current_index > 0 and unsorted_list[current_index] < unsorted_list[current_index - 1]:\n",
    "            unsorted_list[current_index], unsorted_list[current_index - 1] = unsorted_list[current_index - 1], unsorted_list[current_index]\n",
    "            current_index -= 1\n",
    "    return unsorted_list\n",
    "\n",
    "# 1. find min value, swap with current index, increment current index\n",
    "# 2. find next min value, swap with current index, increment current index\n",
    "# 3. repeat step 2\n",
    "def selection_sort(unsorted_list):\n",
    "    size = len(unsorted_list)\n",
    "    for i in range(size):\n",
    "        min_index = i\n",
    "        for j in range(i,size):\n",
    "            if unsorted_list[min_index] > unsorted_list[j]:\n",
    "                min_index = j\n",
    "        unsorted_list[i], unsorted_list[min_index] = unsorted_list[min_index], unsorted_list[i]\n",
    "    return unsorted_list\n",
    "\n",
    "# 1. find local max\n",
    "# 2. swap local max to right, until find next local max\n",
    "# 3. continue swap will leave global max at end of list\n",
    "# 4. decrement the sort range (or leave out the end index, the found max)\n",
    "# 5. repeat step 1-4\n",
    "def bubble_sort(unsorted_list):\n",
    "    size = len(unsorted_list)\n",
    "    for i in reversed(range(size)):\n",
    "        swapped = False\n",
    "        for j in range(i):\n",
    "            if unsorted_list[j] > unsorted_list[j + 1]:\n",
    "                unsorted_list[j], unsorted_list[j + 1] = unsorted_list[j + 1], unsorted_list[j]\n",
    "                swapped = True\n",
    "        if not swapped:\n",
    "            return unsorted_list\n",
    "    return unsorted_list\n",
    "\n",
    "# 1. find mid\n",
    "# 2. find min on left side\n",
    "# 3. find min on right side (mid inclusive)\n",
    "# 4. compare and add those 2 points to list\n",
    "def merge_sort(unsorted_list):\n",
    "    n = len(unsorted_list)\n",
    "    if n <= 1:\n",
    "        return unsorted_list\n",
    "    midpoint = n // 2\n",
    "    left_list, right_list = merge_sort(unsorted_list[:midpoint]), merge_sort(unsorted_list[midpoint:])\n",
    "    result_list = []\n",
    "    left_pointer, right_pointer = 0, 0\n",
    "    while left_pointer < midpoint or right_pointer < n - midpoint:\n",
    "        if left_pointer == midpoint:\n",
    "            result_list.append(right_list[right_pointer])\n",
    "            right_pointer += 1\n",
    "        elif right_pointer == n - midpoint:\n",
    "            result_list.append(left_list[left_pointer])\n",
    "            left_pointer += 1\n",
    "        elif left_list[left_pointer] <= right_list[right_pointer]:\n",
    "            result_list.append(left_list[left_pointer])\n",
    "            left_pointer += 1\n",
    "        else:\n",
    "            result_list.append(right_list[right_pointer])\n",
    "            right_pointer += 1\n",
    "    return result_list\n",
    "\n",
    "def sort_list_interval(unsorted_list: List[int], start: int, end: int) -> None:\n",
    "    if end - start <= 1:\n",
    "        return\n",
    "    pivot = unsorted_list[end - 1]\n",
    "    start_ptr = start\n",
    "    end_ptr = end - 1\n",
    "    while start_ptr < end_ptr:\n",
    "        while unsorted_list[start_ptr] < pivot and start_ptr < end_ptr:\n",
    "            start_ptr += 1\n",
    "        while unsorted_list[end_ptr] >= pivot and start_ptr < end_ptr:\n",
    "            end_ptr -= 1\n",
    "        if start_ptr == end_ptr:\n",
    "            break\n",
    "        unsorted_list[start_ptr], unsorted_list[end_ptr] = unsorted_list[end_ptr], unsorted_list[start_ptr]\n",
    "        \n",
    "    unsorted_list[start_ptr], unsorted_list[end - 1] = unsorted_list[end - 1], unsorted_list[start_ptr]\n",
    "    sort_list_interval(unsorted_list, start, start_ptr)\n",
    "    sort_list_interval(unsorted_list, start_ptr + 1, end)\n",
    "\n",
    "def quick_sort(unsorted_list: List[int]) -> List[int]:\n",
    "    sort_list_interval(unsorted_list, 0, len(unsorted_list))\n",
    "    return unsorted_list\n",
    "\n",
    "print(\"Insertion Sorted:\\t\", list1, '-->', end=' ')\n",
    "print(insertion_sort(list1))\n",
    "print(\"Selection Sorted:\\t\", list2, '-->', end=' ')\n",
    "print(selection_sort(list2))\n",
    "print(\"Bubble Sort:\\t\\t\", list3, '-->', end=' ')\n",
    "print(bubble_sort(list3))\n",
    "print(\"Merge Sort:\\t\\t\", list4, '-->', end=' ')\n",
    "print(merge_sort(list4))\n",
    "print(\"Quick Sort:\\t\\t\", list5, '-->', end=' ')\n",
    "print(quick_sort(list5))\n"
   ]
  },
  {
   "cell_type": "markdown",
   "metadata": {},
   "source": [
    "## *`Types of Sorting Algorithms (Basic)`*\n",
    "\n",
    "### **`Insertion Sort`**\n",
    "\n",
    "The idea of an insertion sort is this: initially, only the first item is considered sorted. Then, for each item in the sequence, we \"insert\" that item into the sorted list by swapping that item with the item before it until the item before it is smaller than the current item.\n",
    "\n",
    "Imagine you are sorting a hand of cards. What people usually do is maintain a pile of sorted cards and inserting from the unsorted pile into the sorted pile in the correct position. This algorithm is based on this idea.\n",
    "\n",
    "<img width=70% height=70% src=\"images/insertion_sort.png\" >"
   ]
  },
  {
   "cell_type": "code",
   "execution_count": 23,
   "metadata": {},
   "outputs": [
    {
     "name": "stdout",
     "output_type": "stream",
     "text": [
      "Unsorted list:\t\t [9, 1, 8, 2, 7, 3, 6, 4, 5]\n",
      "Insertion Sorted result: [1, 2, 3, 4, 5, 6, 7, 8, 9]\n"
     ]
    }
   ],
   "source": [
    "from typing import List\n",
    "\n",
    "def sort_list(unsorted_list: List[int]) -> List[int]:\n",
    "    for i, entry in enumerate(unsorted_list):\n",
    "        current = i\n",
    "        while current > 0 and unsorted_list[current] < unsorted_list[current - 1]:\n",
    "            unsorted_list[current], unsorted_list[current - 1] = unsorted_list[current - 1], unsorted_list[current]\n",
    "            current -= 1\n",
    "    return unsorted_list\n",
    "\n",
    "if __name__ == '__main__':\n",
    "    unsorted_list = [9,1,8,2,7,3,6,4,5]\n",
    "    print(\"Unsorted list:\\t\\t\", unsorted_list)\n",
    "    # unsorted_list = [int(x) for x in input(\"Enter the numbers in list: \").split()]\n",
    "    res = sort_list(unsorted_list)\n",
    "    print(\"Insertion Sorted result:\", res)\n",
    "    # print(' '.join(map(str, res)))"
   ]
  },
  {
   "cell_type": "markdown",
   "metadata": {},
   "source": [
    "For each n item in the list, the time complexity to insert it into the sorted list is O(i), where i is the index of that item. Overall, the time complexity is O(n * (n - 1) / 2), which is equivalent to O(n^2).\n",
    "\n",
    "It is a stable algorithm because later elements will not swap with earlier elements unless the later element is smaller, and it is an in-place algorithm because no additional data structure is used to store intermediate values."
   ]
  },
  {
   "cell_type": "markdown",
   "metadata": {},
   "source": [
    "### **`Selection Sort`**\n",
    "\n",
    "The idea for this sorting algorithm is that during each cycle, we find the smallest item from the unsorted pile and add it to the sorted pile.\n",
    "\n",
    "To find the smallest element in the unsorted pile, we have a temporary variable keeping track of the index to the smallest element. We then compare each element in the unsorted pile to that element, updating the new index if necessary.\n",
    "\n",
    "After all the elements have been compared, we swap the smallest index with the first index of the unsorted pile. The element is now part of the sorted pile.\n",
    "\n",
    "<img width=70% height=70% src=\"images/selection_sort.png\" >"
   ]
  },
  {
   "cell_type": "code",
   "execution_count": 24,
   "metadata": {},
   "outputs": [
    {
     "name": "stdout",
     "output_type": "stream",
     "text": [
      "Unsorted list:\t\t [9, 1, 8, 2, 7, 3, 6, 4, 5]\n",
      "Selection Sort result:\t [1, 2, 3, 4, 5, 6, 7, 8, 9]\n"
     ]
    }
   ],
   "source": [
    "from typing import List\n",
    "\n",
    "def sort_list(unsorted_list: List[int]) -> List[int]:\n",
    "    n = len(unsorted_list)\n",
    "    for i in range(n):\n",
    "        min_index = i\n",
    "        for j in range(i, n):\n",
    "            if unsorted_list[j] < unsorted_list[min_index]:\n",
    "                min_index = j\n",
    "        unsorted_list[i], unsorted_list[min_index] = unsorted_list[min_index], unsorted_list[i]\n",
    "    return unsorted_list\n",
    "\n",
    "if __name__ == '__main__':\n",
    "    unsorted_list = [9,1,8,2,7,3,6,4,5]\n",
    "    print(\"Unsorted list:\\t\\t\", unsorted_list)\n",
    "    # unsorted_list = [int(x) for x in input(\"Enter the numbers in list: \").split()]\n",
    "    res = sort_list(unsorted_list)\n",
    "    print(\"Selection Sort result:\\t\", res)\n",
    "    # print(' '.join(map(str, res)))"
   ]
  },
  {
   "cell_type": "markdown",
   "metadata": {},
   "source": [
    "For each n item in the list, the time complexity to find the smallest item in the unsorted pile is O(n - i), where i is the index of that item. Overall, the time complexity is O(n * (n + 1) / 2), which is equivalent to O(n^2).\n",
    "\n",
    "This algorithm is not stable because an earlier element can jump after an element of the same value during a swap, but the algorithm is in-place as it only needs additional memory to store the index to the minimum element."
   ]
  },
  {
   "cell_type": "markdown",
   "metadata": {},
   "source": [
    "### **`Bubble Sort`**\n",
    "\n",
    "The idea of bubble sort is this: for each pass, we use a pointer to point at the first element of the list. For each cycle, we compare it to the next element in the list and swap them if the current item is greater, then move the pointer by one until it reaches the end of the list. We repeat this process until the list becomes sorted. The list is sorted if, during a pass, no swapping occurs.\n",
    "\n",
    "Note that during each pass, the largest element will always \"float\" to the top, like a bubble. Therefore, each pass, we only need to consider the interval excluding the last element of the previous interval, and the list is guaranteed to be sorted within n passes.\n",
    "\n",
    "<img width=70% height=70% src=\"images/bubble_sort.png\" >"
   ]
  },
  {
   "cell_type": "code",
   "execution_count": 25,
   "metadata": {},
   "outputs": [
    {
     "name": "stdout",
     "output_type": "stream",
     "text": [
      "Unsorted list:\t\t [9, 1, 8, 2, 7, 3, 6, 4, 5]\n",
      "Bubble Sorted result:\t [1, 2, 3, 4, 5, 6, 7, 8, 9]\n"
     ]
    }
   ],
   "source": [
    "from typing import List\n",
    "\n",
    "def sort_list(unsorted_list: List[int]) -> List[int]:\n",
    "    n = len(unsorted_list)\n",
    "    for i in reversed(range(n)):\n",
    "        swapped = False\n",
    "        for j in range(i):\n",
    "            if unsorted_list[j] > unsorted_list[j + 1]:\n",
    "                unsorted_list[j], unsorted_list[j + 1] = unsorted_list[j + 1], unsorted_list[j]\n",
    "                swapped = True\n",
    "        if not swapped:\n",
    "            return unsorted_list\n",
    "    return unsorted_list\n",
    "\n",
    "if __name__ == '__main__':\n",
    "    unsorted_list = [9,1,8,2,7,3,6,4,5]\n",
    "    print(\"Unsorted list:\\t\\t\", unsorted_list)\n",
    "    # unsorted_list = [int(x) for x in input(\"Enter the numbers in list: \").split()]\n",
    "    res = sort_list(unsorted_list)\n",
    "    print(\"Bubble Sorted result:\\t\", res)\n",
    "    # print(' '.join(map(str, res)))"
   ]
  },
  {
   "cell_type": "markdown",
   "metadata": {},
   "source": [
    "The time complexity of this algorithm, just like before, is `O(n^2)`, because it is essentially two loops.\n",
    "\n",
    "It is a stable algorithm because a swap cannot cause an element to move past another one with the same value, and it is in-place because no additional data structure is used."
   ]
  },
  {
   "cell_type": "markdown",
   "metadata": {},
   "source": [
    "## *`Types of Sorting Algorithms (Improved)`*"
   ]
  },
  {
   "cell_type": "markdown",
   "metadata": {},
   "source": [
    "\n",
    "### **`Merge Sort`**\n",
    "\n",
    "The idea of a merge sort is divide and conquer: We divide the array into two almost equally, sort them (usually another merge sort), and merge the two sorted list into one. To merge the two sorted list, have two pointers point towards the bottom of the two list, and each step, add the smaller element from those two into the list and move the pointer of that item up by one until elements from both lists are fully added.\n",
    "\n",
    "<img width=70% height=70% src=\"images/merge_sort.png\" >"
   ]
  },
  {
   "cell_type": "code",
   "execution_count": 26,
   "metadata": {},
   "outputs": [
    {
     "name": "stdout",
     "output_type": "stream",
     "text": [
      "Unsorted list:\t\t [9, 1, 8, 2, 7, 3, 6, 4, 5]\n",
      "Merge Sorted result:\t [1, 2, 3, 4, 5, 6, 7, 8, 9]\n"
     ]
    }
   ],
   "source": [
    "from typing import List\n",
    "\n",
    "def sort_list(unsorted_list: List[int]) -> List[int]:\n",
    "    n = len(unsorted_list)\n",
    "    if n <= 1:\n",
    "        return unsorted_list\n",
    "    midpoint = n // 2\n",
    "    left_list, right_list = sort_list(unsorted_list[:midpoint]), sort_list(unsorted_list[midpoint:])\n",
    "    result_list = []\n",
    "    left_pointer, right_pointer = 0, 0\n",
    "    while left_pointer < midpoint or right_pointer < n - midpoint:\n",
    "        if left_pointer == midpoint:\n",
    "            result_list.append(right_list[right_pointer])\n",
    "            right_pointer += 1\n",
    "        elif right_pointer == n - midpoint:\n",
    "            result_list.append(left_list[left_pointer])\n",
    "            left_pointer += 1\n",
    "        elif left_list[left_pointer] <= right_list[right_pointer]:\n",
    "            result_list.append(left_list[left_pointer])\n",
    "            left_pointer += 1\n",
    "        else:\n",
    "            result_list.append(right_list[right_pointer])\n",
    "            right_pointer += 1\n",
    "    return result_list\n",
    "\n",
    "if __name__ == '__main__':\n",
    "    unsorted_list = [9,1,8,2,7,3,6,4,5]\n",
    "    print(\"Unsorted list:\\t\\t\", unsorted_list)\n",
    "    # unsorted_list = [int(x) for x in input(\"Enter the numbers in list: \").split()]\n",
    "    res = sort_list(unsorted_list)\n",
    "    print(\"Merge Sorted result:\\t\", res)\n",
    "    # print(' '.join(map(str, res)))"
   ]
  },
  {
   "cell_type": "markdown",
   "metadata": {},
   "source": [
    "The overall time complexity is `O(nlog(n))` because for each item in the list, it is merged a number of times equal to the number of divisions to make to divide the list to a size of one, which is `O(log(n))` times.\n",
    "\n",
    "Assuming the sorting of the divided list is stable, the overall algorithm is stable, because if an element appears before another element with the same value, there are two situations. If they are in the same list, the first element is before the second one in that list, and the first one will be inserted first. If they are in different lists, the first element will be inserted first if two elements are equal. Note that the base case, where only one element exists in the list, is stable (because there are no two elements of the same size), so merge sort is stable.\n",
    "\n",
    "However, merge sort is not in-place because of the usage of additional arrays."
   ]
  },
  {
   "cell_type": "markdown",
   "metadata": {},
   "source": [
    "### **`Quick Sort`**\n",
    "\n",
    "The idea of quick sort is this: We select an arbitrary element in the list (known as the \"pivot\"), and we swap the elements in the list into two sides: a side where all the elements are smaller than the pivot, and a side where all the elements are larger or equal to the pivot.\n",
    "\n",
    "After grouping them this way, we swap the pivot with the first element of the side that is larger or equal to the pivot. This way, each element to the left of the pivot is smaller than it, and each element on the right is larger or equal to it. Then we just need to sort the left interval and the right interval (using the same method), then the list would be sorted.\n",
    "\n",
    "This is the idea, but how would it grouped together? One of the ways to achieve this is that for the interval that we are sorting, we have a pointer point before the start and at the end (including the pivot). For each swap, we move the start pointer until we find an element larger or equal to the pivot (after the initial index), and move the end pointer until we find an element smaller or equal to the pivot (before the initial index). Then we can swap those two elements and restart the process. If those two pointers meet, we stop and then we can swap the pivot and the meeting point.\n",
    "\n",
    "<img width=70% height=70% src=\"images/quick_sort.png\" >"
   ]
  },
  {
   "cell_type": "code",
   "execution_count": 27,
   "metadata": {},
   "outputs": [
    {
     "name": "stdout",
     "output_type": "stream",
     "text": [
      "Unsorted list:\t\t [9, 1, 8, 2, 7, 3, 6, 4, 5]\n",
      "Quick Sorted result:\t [1, 2, 3, 4, 5, 6, 7, 8, 9]\n"
     ]
    }
   ],
   "source": [
    "from typing import List\n",
    "\n",
    "def sort_list_interval(unsorted_list: List[int], start: int, end: int) -> None:\n",
    "    if end - start <= 1:\n",
    "        return\n",
    "    pivot = unsorted_list[end - 1]\n",
    "    start_ptr = start\n",
    "    end_ptr = end - 1\n",
    "    while start_ptr < end_ptr:\n",
    "        while unsorted_list[start_ptr] < pivot and start_ptr < end_ptr:\n",
    "            start_ptr += 1\n",
    "        while unsorted_list[end_ptr] >= pivot and start_ptr < end_ptr:\n",
    "            end_ptr -= 1\n",
    "        if start_ptr == end_ptr:\n",
    "            break\n",
    "        unsorted_list[start_ptr], unsorted_list[end_ptr] = unsorted_list[end_ptr], unsorted_list[start_ptr]\n",
    "        \n",
    "    unsorted_list[start_ptr], unsorted_list[end - 1] = unsorted_list[end - 1], unsorted_list[start_ptr]\n",
    "    sort_list_interval(unsorted_list, start, start_ptr)\n",
    "    sort_list_interval(unsorted_list, start_ptr + 1, end)\n",
    "\n",
    "def sort_list(unsorted_list: List[int]) -> List[int]:\n",
    "    sort_list_interval(unsorted_list, 0, len(unsorted_list))\n",
    "    return unsorted_list\n",
    "\n",
    "if __name__ == '__main__':\n",
    "    unsorted_list = [9,1,8,2,7,3,6,4,5]\n",
    "    print(\"Unsorted list:\\t\\t\", unsorted_list)\n",
    "    # unsorted_list = [int(x) for x in input(\"Enter the numbers in list: \").split()]\n",
    "    res = sort_list(unsorted_list)\n",
    "    print(\"Quick Sorted result:\\t\", res)\n",
    "    # print(' '.join(map(str, res)))"
   ]
  },
  {
   "cell_type": "markdown",
   "metadata": {},
   "source": [
    "The time complexity of quick sort is a bit complicated. On average, where the list is divided somewhere near the center each time, the time complexity is `O(nlog(n))`. However, in the worst case scenario, each interval to sort is one less than the current interval, which would make the time complexity `O(n^2)`. This depends heavily on which pivot point you chooses: if you choose an end point as your pivot and the list is already sorted, it will reach this time complexity. Otherwise, the chance of this happening is very low.\n",
    "\n",
    "This algorithm is not stable, as each swap skips a lot of values. It does sort the array in-place, though, as it does not require additional data structures. Note that this does not mean this algorithm happens in constant space: it uses recursion as its core logic, and the minimum recursion layers is equal to `log(n)`."
   ]
  },
  {
   "cell_type": "markdown",
   "metadata": {},
   "source": [
    "### **`Comparisons`**\n",
    "\n",
    "There are many sorting algorithms presented here, and it is important to know the advantages and disadvantages of each one.\n",
    "\n",
    "The basic algorithms are easy to visualize and easy to learn for beginner programmers because of the simplicity of these algorithms and their intuitiveness. As such, if you don't know any advanced sorting algorithms or aren't confident with implementing them, they will suffice. However, they are slower compared to advanced algorithms as the list grows larger.\n",
    "\n",
    "The advanced algorithms are a bit more complicated, so they are not the first to be introduced to new programmers. It also takes them more time to sort a short list because of the constant overhead, although in most cases it isn't relevant. However, as the size of the list grows, the algorithm becomes more and more efficient compared to the naive approach.\n",
    "\n",
    "Between the basic algorithms, insertion sort and bubble sort are good for sorting lists that are almost sorted. In insertion sort, the number of swaps required to insert an item when the list is almost sorted is close to `O(1)`, and for bubble sort, after close to `O(1)` bubbles we can detect that the list is already sorted and stop the sorting. With selection sort, even if the list is almost sorted, we still need to go through the entire process each cycle.\n",
    "\n",
    "Insertion sort and bubble sort are both stable, so they are useful in situations where stability is important, like sorting lines of excel sheets by one column.\n",
    "\n",
    "On the other hand, because the number of swaps between elements is very small `(O(n))`, it is good for sorting when the swapping speed is very slow.\n",
    "\n",
    "Between the advanced algorithm, merge sort is stable, and always have a time complexity of `O(nlog(n))`, so it is more reliable compared to quick sort. However, merge sort requires way more extra memory than quick sort, and requires memory management of arrays, so quick sort is often preferred if stability is not important.\n",
    "\n",
    "A problem with the above implementation of quick sort is that when the list is almost sorted, it will take close to `O(n^2)` time. In other implementations, however, the pivot is selected as the midpoint of the list, so it can help mitigate this problem. If you do that, however, you need to remember that the index to the pivot moves with the pivot when swapping."
   ]
  },
  {
   "cell_type": "markdown",
   "metadata": {},
   "source": [
    "### **`Other Sorting Algorithms`**\n",
    "\n",
    "There are other sorting algorithms that utilizes the monotonic properties of certain data structures (that is, something to those data structure that makes them inherently ordered by the size of the values).\n",
    "\n",
    "For example, heap sort utilizes a heap and pull the elements from the heap and order them. It has a time complexity of `O(nlog(n))`, is unstable, and can be done in-place. See Heap Intro for more details.\n",
    "\n",
    "A tree sort utilizes a binary search tree that is built from the list, so we can iterate through it. It has a time complexity of `O(nlog(n))` (if balanced), can be stable, but is not in-place. See BST Intro for more details.\n",
    "\n",
    "If there are a lot of integers to be sorted, but the range of these integers are very small, we can use a bucket sort. It uses an array, with the index being the entries from the list and the value being the number of times a number has appeared in the list. It has a low time complexity of `O(n)`, but it has a space complexity of `O(m)`, where m is the range of the integers."
   ]
  },
  {
   "cell_type": "markdown",
   "metadata": {},
   "source": [
    "\n",
    "## **`Built-in Sorting`**\n",
    "Now, most modern programming language have a built-in sorting function, and in an interview, it is sufficient to just use these built-in ones.\n",
    "\n",
    "For example, in Python, you can use `list.sort()` to sort the content of the list, and `sorted(list)` to return a new list containing the sorted list. They are both stable sorts. Python uses Timsort, which uses merge sort for larger data and insertion sort for smaller data.\n",
    "\n",
    "## **`For the Interview`**\n",
    "\n",
    "Now the real question is - which ones do you need to know for the interviews? The basic sorting algorithms (Insertion, Selection, Bubble Sort) are pretty much about writing everyday loops. You should be able to write them very quickly. Practice each one a few times in the provided editor at the top of this page. It may look simple but it's easy to make off-by-one mistakes.\n",
    "\n",
    "`Merge Sort` and `Quick Sort` are much trickier. Remember that researchers spent years inventing them so don't feel bad if you don't get it the first time. Merge Sort is a classic Divide and Conquer algorithm and has applications in real-world interview questions such as Count of Smaller Numbers after Self. For Quick Sort, it's unlikely you will be asked to code it up at an interview but the idea of moving things around a pivot can be seen in Two Pointers interview questions."
   ]
  }
 ],
 "metadata": {
  "interpreter": {
   "hash": "a707b6ce8c685eb936424fcc3009d4b4b7a52543c4db09380a3fc49186ceb509"
  },
  "kernelspec": {
   "display_name": "Python 3.9.7 ('base')",
   "language": "python",
   "name": "python3"
  },
  "language_info": {
   "codemirror_mode": {
    "name": "ipython",
    "version": 3
   },
   "file_extension": ".py",
   "mimetype": "text/x-python",
   "name": "python",
   "nbconvert_exporter": "python",
   "pygments_lexer": "ipython3",
   "version": "3.9.7"
  },
  "orig_nbformat": 4
 },
 "nbformat": 4,
 "nbformat_minor": 2
}
