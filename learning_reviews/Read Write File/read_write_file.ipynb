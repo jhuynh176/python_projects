{
 "cells": [
  {
   "cell_type": "markdown",
   "metadata": {},
   "source": [
    "*Jump to*:\n",
    "- File\n",
    "  - [File Method](#file)\n",
    "  - [CSV File](#what-is-a-csv-file)\n",
    "- Read File\n",
    "  - [Reading TXT](#reading-a-file)\n",
    "  - [Read CSV](#reading-a-csv-file)\n",
    "  - [Read JSON](#reading-a-json-file)\n",
    "- Write File\n",
    "  - [Write TXT](#writing-a-file)\n",
    "  - [Write CSV](#writing-a-csv-file)\n",
    "  - [Write JSON]()"
   ]
  },
  {
   "cell_type": "markdown",
   "metadata": {},
   "source": [
    "# *File*\n",
    "\n",
    "## **New method**\n",
    "- `with` open(\"file_name\")\n",
    "  - `with` is a file manager, will automatically close the file when done\n",
    "- with open(\"file_name.txt\", `'r'`)\n",
    "  - `read` will read file only --> `DEFAULT`\n",
    "- with open(\"file_name.csv\", `'w'`)\n",
    "  - `write` will create new file / overwrite exisiting file\n",
    "- with open(\"file_name.json\", `'a'`)\n",
    "  - `append` will write new line to existing file\n",
    "- with open(\"file_name\") as `new_name`:\n",
    "  - `new_name` is the short nick name we give the opening file\n",
    "- `.txt`, `.csv`, `.json` - are common reading files\n",
    "\n",
    "## **Alternative**\n",
    "- file_in = `open`(\"file_name.txt\")\n",
    "  - original way to open a file\n",
    "- file_in.`close()`\n",
    "  - original way to close file when done"
   ]
  },
  {
   "cell_type": "markdown",
   "metadata": {},
   "source": [
    "# **Reading a File**\n",
    "\n",
    "- file_name.`read()` --> grab the `whole document in a single string`\n",
    "- file_name.`readlines()` --> read a text file `line by line`, similar to a `list`\n",
    "- file_name.`readline()` --> read `a single line at a time`"
   ]
  },
  {
   "cell_type": "markdown",
   "metadata": {},
   "source": [
    "## **`read()`** - grab the `whole document in a single string`"
   ]
  },
  {
   "cell_type": "code",
   "execution_count": 1,
   "metadata": {},
   "outputs": [
    {
     "name": "stdout",
     "output_type": "stream",
     "text": [
      "Two households, both alike in dignity,\n",
      "In fair Verona, where we lay our scene,\n",
      "From ancient grudge break to new mutiny,\n",
      "Where civil blood makes civil hands unclean.\n",
      "From forth the fatal loins of these two foes\t\n",
      "A pair of star-cross'd lovers take their life;\n",
      "Whose misadventured piteous overthrows\n",
      "Do with their death bury their parents' strife.\n",
      "The fearful passage of their death-mark'd love,\n",
      "And the continuance of their parents' rage,\t\n",
      "Which, but their children's end, nought could remove,\n",
      "Is now the two hours' traffic of our stage;\n",
      "The which if you with patient ears attend,\n",
      "What here shall miss, our toil shall strive to mend.\n"
     ]
    }
   ],
   "source": [
    "with open(\".\\poem.txt\") as text_file:\n",
    "    text_data = text_file.read()\n",
    "print(text_data)\n"
   ]
  },
  {
   "cell_type": "markdown",
   "metadata": {},
   "source": [
    "## **`readlines()`** - read a text file `line by line`, similar to a `list`"
   ]
  },
  {
   "cell_type": "code",
   "execution_count": 2,
   "metadata": {},
   "outputs": [
    {
     "name": "stdout",
     "output_type": "stream",
     "text": [
      "Two households, both alike in dignity,\n",
      "\n",
      "In fair Verona, where we lay our scene,\n",
      "\n",
      "From ancient grudge break to new mutiny,\n",
      "\n",
      "Where civil blood makes civil hands unclean.\n",
      "\n",
      "From forth the fatal loins of these two foes\t\n",
      "\n",
      "A pair of star-cross'd lovers take their life;\n",
      "\n",
      "Whose misadventured piteous overthrows\n",
      "\n",
      "Do with their death bury their parents' strife.\n",
      "\n",
      "The fearful passage of their death-mark'd love,\n",
      "\n",
      "And the continuance of their parents' rage,\t\n",
      "\n",
      "Which, but their children's end, nought could remove,\n",
      "\n",
      "Is now the two hours' traffic of our stage;\n",
      "\n",
      "The which if you with patient ears attend,\n",
      "\n",
      "What here shall miss, our toil shall strive to mend.\n"
     ]
    }
   ],
   "source": [
    "with open(\".\\poem.txt\") as lines_doc:\n",
    "    for line in lines_doc.readlines():\n",
    "       print(line)"
   ]
  },
  {
   "cell_type": "markdown",
   "metadata": {},
   "source": [
    "## **`readline()`** - read `a single line at a time`"
   ]
  },
  {
   "cell_type": "code",
   "execution_count": 3,
   "metadata": {},
   "outputs": [
    {
     "name": "stdout",
     "output_type": "stream",
     "text": [
      "Two households, both alike in dignity,\n",
      "\n"
     ]
    }
   ],
   "source": [
    "with open(\".\\poem.txt\") as first_line_doc:\n",
    "    first_line = first_line_doc.readline()\n",
    "    print(first_line)"
   ]
  },
  {
   "cell_type": "markdown",
   "metadata": {},
   "source": [
    "# **Writing a File**"
   ]
  },
  {
   "cell_type": "markdown",
   "metadata": {},
   "source": [
    "## `'w'` - write"
   ]
  },
  {
   "cell_type": "code",
   "execution_count": 4,
   "metadata": {},
   "outputs": [
    {
     "name": "stdout",
     "output_type": "stream",
     "text": [
      "Hello World!\n",
      "\n"
     ]
    }
   ],
   "source": [
    "with open(\".\\write_test.txt\", \"w\") as write_test:\n",
    "    write_test.write(\"Hello World!\\n\")\n",
    "\n",
    "with open(\".\\write_test.txt\") as text_file:\n",
    "    text_data = text_file.read()\n",
    "print(text_data)"
   ]
  },
  {
   "cell_type": "markdown",
   "metadata": {},
   "source": [
    "## `'a'` - append"
   ]
  },
  {
   "cell_type": "code",
   "execution_count": 5,
   "metadata": {},
   "outputs": [
    {
     "name": "stdout",
     "output_type": "stream",
     "text": [
      "Hello World!\n",
      "Welcome to Python Programming!\n",
      "\n"
     ]
    }
   ],
   "source": [
    "with open(\".\\write_test.txt\", 'a') as test:\n",
    "    test.write(\"Welcome to Python Programming!\\n\")\n",
    "\n",
    "with open(\".\\write_test.txt\") as text_file:\n",
    "    text_data = text_file.read()\n",
    "print(text_data)"
   ]
  },
  {
   "cell_type": "markdown",
   "metadata": {},
   "source": [
    "# **What Is a `CSV` File?**\n",
    "Text files aren’t the only thing that Python can read, but they’re the only thing that we don’t need any additional parsing library to understand. `CSV` files are an example of a text file that impose a structure to their data. `CSV` stands for Comma-Separated Values and `CSV` files are usually the way that data from spreadsheet software (like Microsoft Excel or Google Sheets) is exported into a portable format. A spreadsheet that looks like the following\n",
    "\n",
    "| Name          | Username     | Email                  |\n",
    "|---------------|--------------|------------------------|\n",
    "|Roger Smith\t|rsmith\t       |wigginsryan@yahoo.com   |\n",
    "|Michelle Beck\t|mlbeck        |@hotmail.com            |\n",
    "|Ashley Barker\t|a_bark_x\t   |a_bark_x@turner.com     |\n",
    "|Lynn Gonzales\t|goodmanjames  |@hotmail.com            |\n",
    "|Jennifer Chase\t|chasej\t       |jchase@ramirez.com      |\n",
    "|Charles Hoover\t|choover\t   |choover89@yahoo.com     |\n",
    "|Adrian Evans\t|adevans\t   |adevans98@yahoo.com     |\n",
    "|Susan Walter\t|susan82\t   |swilliams@yahoo.com     |\n",
    "|Stephanie King\t|stephanieking |@morris-tyler.com       |\n",
    "|Erika Miller\t|jessica32\t   |ejmiller79@yahoo.com    |\n"
   ]
  },
  {
   "cell_type": "code",
   "execution_count": 6,
   "metadata": {},
   "outputs": [
    {
     "name": "stdout",
     "output_type": "stream",
     "text": [
      "Name,Username,Email\n",
      "Roger Smith,rsmith,wigginsryan@yahoo.com\n",
      "Michelle Beck,mlbeck,hcosta@hotmail.com\n",
      "Ashley Barker,a_bark_x,a_bark_x@turner.com\n",
      "Lynn Gonzales,goodmanjames,lynniegonz@hotmail.com\n",
      "Jennifer Chase,chasej,jchase@ramirez.com\n",
      "Charles Hoover,choover,choover89@yahoo.com\n",
      "Adrian Evans,adevans,adevans98@yahoo.com\n",
      "Susan Walter,susan82,swilliams@yahoo.com\n",
      "Stephanie King,stephanieking,sking@morris-tyler.com\n",
      "Erika Miller,jessica32,ejmiller79@yahoo.com"
     ]
    }
   ],
   "source": [
    "with open('.\\csv_test.csv') as log_csv_file:\n",
    "    # print(log_csv_file.read())\n",
    "    for line in log_csv_file:\n",
    "        print(line, end='')"
   ]
  },
  {
   "cell_type": "markdown",
   "metadata": {},
   "source": [
    "## **`Reading a `CSV` File`**\n",
    "\n",
    "Even though we can read these lines as text without a problem, there are ways to access the data in a format better suited for programming purposes. \n",
    "\n",
    "In Python we can convert that data into a dictionary using the csv library’s `DictReader` object. \n",
    "\n",
    "Here’s how we’d create a list of the email addresses of all of the users in the above table:"
   ]
  },
  {
   "cell_type": "code",
   "execution_count": 7,
   "metadata": {},
   "outputs": [
    {
     "name": "stdout",
     "output_type": "stream",
     "text": [
      "Roger Smith\n",
      "Michelle Beck\n",
      "Ashley Barker\n",
      "Lynn Gonzales\n",
      "Jennifer Chase\n",
      "Charles Hoover\n",
      "Adrian Evans\n",
      "Susan Walter\n",
      "Stephanie King\n",
      "Erika Miller\n"
     ]
    }
   ],
   "source": [
    "import csv\n",
    "\n",
    "with open('.\\csv_test.csv') as cool_csv_file:\n",
    "    cool_csv_dict = csv.DictReader(cool_csv_file)\n",
    "    for line in cool_csv_dict:\n",
    "        print(line['Name'])\n",
    "\n"
   ]
  },
  {
   "cell_type": "markdown",
   "metadata": {},
   "source": [
    "## **`Reading Different Types of CSV Files`**\n"
   ]
  },
  {
   "cell_type": "code",
   "execution_count": 8,
   "metadata": {},
   "outputs": [
    {
     "name": "stdout",
     "output_type": "stream",
     "text": [
      "Before:\n",
      "\n",
      "Author@ISBN@Title\n",
      "Lauren Murray@978-0-12-995015-8@\"Enviornment Call, Amount Later Page Country\"\n",
      "Micheal Jones@978-1-78110-100-1@Rate Security Full\n",
      "Alexander Carr@978-0-315-25137-3@Still Response Size\n",
      "Michael Williams@978-0-388-70665-7@Position Result Five\n",
      "Kathleen Ferguson@978-1-75098-721-6@Country Week Receive And Sign\n",
      "Sarah Dorsey@978-1-06-483628-6@Audience Truth Small\n",
      "Mary Middleton@978-0-7419-8114-1@Travel: Special Offer Near Allow Goal\n",
      "William Todd@978-1-4457-0480-7@Money Exactly Drop Teach\n",
      "Joan Martin@978-0-657-61030-2@Theory Do Half Change\n",
      "Gary Roman@978-1-5039-7539-2@Bill Serve Pull Industry South Job\n",
      "\n",
      "After:\n",
      "\n",
      "[{'Author': 'Lauren Murray', 'ISBN': '978-0-12-995015-8', 'Title': 'Enviornment Call, Amount Later Page Country'}, {'Author': 'Micheal Jones', 'ISBN': '978-1-78110-100-1', 'Title': 'Rate Security Full'}, {'Author': 'Alexander Carr', 'ISBN': '978-0-315-25137-3', 'Title': 'Still Response Size'}, {'Author': 'Michael Williams', 'ISBN': '978-0-388-70665-7', 'Title': 'Position Result Five'}, {'Author': 'Kathleen Ferguson', 'ISBN': '978-1-75098-721-6', 'Title': 'Country Week Receive And Sign'}, {'Author': 'Sarah Dorsey', 'ISBN': '978-1-06-483628-6', 'Title': 'Audience Truth Small'}, {'Author': 'Mary Middleton', 'ISBN': '978-0-7419-8114-1', 'Title': 'Travel: Special Offer Near Allow Goal'}, {'Author': 'William Todd', 'ISBN': '978-1-4457-0480-7', 'Title': 'Money Exactly Drop Teach'}, {'Author': 'Joan Martin', 'ISBN': '978-0-657-61030-2', 'Title': 'Theory Do Half Change'}, {'Author': 'Gary Roman', 'ISBN': '978-1-5039-7539-2', 'Title': 'Bill Serve Pull Industry South Job'}]\n",
      "\n",
      "Selection:\n",
      "\n",
      "['Enviornment Call, Amount Later Page Country', 'Rate Security Full', 'Still Response Size', 'Position Result Five', 'Country Week Receive And Sign', 'Audience Truth Small', 'Travel: Special Offer Near Allow Goal', 'Money Exactly Drop Teach', 'Theory Do Half Change', 'Bill Serve Pull Industry South Job']\n"
     ]
    }
   ],
   "source": [
    "import csv\n",
    "# Print before\n",
    "with open('.\\csv_@_test.csv') as books_csv:\n",
    "    print(\"Before:\\n\\n\" + books_csv.read())\n",
    "\n",
    "# Print after\n",
    "with open('.\\csv_@_test.csv') as books_csv:\n",
    "    books_reader = csv.DictReader(books_csv, delimiter = '@')\n",
    "    print(\"After:\\n\\n\" + str(list(books_reader)))\n",
    "\n",
    "# Print main \n",
    "with open('.\\csv_@_test.csv') as books_csv:\n",
    "    books_reader = csv.DictReader(books_csv, delimiter = '@')\n",
    "    # print(list(books_reader))\n",
    "    isbn_list = []\n",
    "    for line in books_reader:\n",
    "        isbn_list.append(line['Title'])\n",
    "    print(\"\\nSelection:\\n\\n\" + str(isbn_list))"
   ]
  },
  {
   "cell_type": "markdown",
   "metadata": {},
   "source": [
    "# **`Writing a `CSV` File`**\n",
    "\n",
    "Naturally if we have the ability to read different `CSV` files we might want to be able to programmatically create `CSV` files that save output and data that someone could load into their spreadsheet software."
   ]
  },
  {
   "cell_type": "code",
   "execution_count": 9,
   "metadata": {},
   "outputs": [
    {
     "name": "stdout",
     "output_type": "stream",
     "text": [
      "Read Written File:\n",
      "\n",
      "time,address,limit\n",
      "\n",
      "08:39:37,1.227.124.181,844404\n",
      "\n",
      "13:13:35,198.51.139.193,543871\n",
      "\n",
      "19:40:45,172.1.254.208,3021\n",
      "\n",
      "18:57:16,172.58.247.219,67031769\n",
      "\n",
      "21:17:13,124.144.20.113,9083\n",
      "\n",
      "23:34:17,203.236.149.220,65913\n",
      "\n",
      "13:58:05,192.52.206.76,1541474\n",
      "\n",
      "10:52:00,104.47.149.93,11465607\n",
      "\n",
      "14:56:12,192.31.185.7,109\n",
      "\n",
      "18:56:35,2.228.164.197,6207\n",
      "\n",
      "\n"
     ]
    }
   ],
   "source": [
    "access_log = [{'time': '08:39:37', 'limit': 844404, 'address': '1.227.124.181'}, {'time': '13:13:35', 'limit': 543871, 'address': '198.51.139.193'}, {'time': '19:40:45', 'limit': 3021, 'address': '172.1.254.208'}, {'time': '18:57:16', 'limit': 67031769, 'address': '172.58.247.219'}, {'time': '21:17:13', 'limit': 9083, 'address': '124.144.20.113'}, {'time': '23:34:17', 'limit': 65913, 'address': '203.236.149.220'}, {'time': '13:58:05', 'limit': 1541474, 'address': '192.52.206.76'}, {'time': '10:52:00', 'limit': 11465607, 'address': '104.47.149.93'}, {'time': '14:56:12', 'limit': 109, 'address': '192.31.185.7'}, {'time': '18:56:35', 'limit': 6207, 'address': '2.228.164.197'}]\n",
    "fields = ['time', 'address', 'limit']\n",
    "\n",
    "import csv\n",
    "\n",
    "with open('.\\logger.csv', 'w') as logger_csv:\n",
    "  log_writer = csv.DictWriter(logger_csv, fieldnames = fields)\n",
    "  log_writer.writeheader()\n",
    "  for item in access_log:\n",
    "    log_writer.writerow(item)\n",
    "\n",
    "# read written file\n",
    "with open(\".\\logger.csv\") as logger_csv:\n",
    "    print(\"Read Written File:\\n\\n\" + str(logger_csv.read()))"
   ]
  },
  {
   "cell_type": "markdown",
   "metadata": {},
   "source": [
    "# **`Reading a `JSON` File`**\n",
    "\n",
    "`CSV` isn’t the only file format that Python has a built-in library for. We can also use Python’s file tools to read and write `JSON`. `JSON`, an abbreviation of JavaScript Object Notation, is a file format inspired by the programming language JavaScript. The name, like CSV is a bit of a misnomer — some `JSON` is not valid JavaScript (and plenty of JavaScript is not valid `JSON`).\n",
    "\n",
    "`JSON`’s format is endearingly similar to Python dictionary syntax, and so `JSON` files might be easy to read from a Python developer standpoint. Nonetheless, Python comes with a `json` package that will help us parse `JSON` files into actual Python dictionaries. Suppose we have a `JSON` file like the following:"
   ]
  },
  {
   "cell_type": "code",
   "execution_count": 10,
   "metadata": {},
   "outputs": [
    {
     "name": "stdout",
     "output_type": "stream",
     "text": [
      "Now that's JSON!\n",
      "Now that's some _serious_ JSON!\n"
     ]
    }
   ],
   "source": [
    "import json\n",
    "\n",
    "with open('.\\message.json') as message_json:\n",
    "  message = json.load(message_json)\n",
    "  print(message['text'])\n",
    "  print(message['secret text'])\n",
    "\n"
   ]
  },
  {
   "cell_type": "markdown",
   "metadata": {},
   "source": [
    "# **`Writing a `JSON` File`**\n",
    "\n",
    "Naturally we can use the `json` library to translate Python objects to `JSON` as well. This is especially useful in instances where you’re using a Python library to serve web pages, you would also be able to serve `JSON`.\n",
    "\n",
    "Let’s say we had a Python dictionary we wanted to save as a `JSON` file:"
   ]
  },
  {
   "cell_type": "code",
   "execution_count": 11,
   "metadata": {},
   "outputs": [],
   "source": [
    "turn_to_json = {\n",
    "  'eventId': 674189,\n",
    "  'dateTime': '2015-02-12T09:23:17.511Z',\n",
    "  'chocolate': 'Semi-sweet Dark',\n",
    "  'isTomatoAFruit': True\n",
    "}"
   ]
  },
  {
   "cell_type": "markdown",
   "metadata": {},
   "source": [
    "We’d be able to create a JSON file with that information by doing the following:"
   ]
  },
  {
   "cell_type": "code",
   "execution_count": 12,
   "metadata": {},
   "outputs": [],
   "source": [
    "import json\n",
    "\n",
    "with open('output.json', 'w') as json_file:\n",
    "     json.dump(turn_to_json, json_file)"
   ]
  },
  {
   "cell_type": "markdown",
   "metadata": {},
   "source": [
    "We import the json module, open up a write-mode file under the variable `json_file`, and then use the `json.dump()` method to write to the file. `json.dump()` takes two arguments: first the data object, then the file object you want to save."
   ]
  },
  {
   "cell_type": "code",
   "execution_count": 13,
   "metadata": {},
   "outputs": [
    {
     "name": "stdout",
     "output_type": "stream",
     "text": [
      "{\"eventId\": 674189, \"dateTime\": \"2015-02-12T09:23:17.511Z\", \"chocolate\": \"Semi-sweet Dark\", \"isTomatoAFruit\": true}\n"
     ]
    }
   ],
   "source": [
    "with open('output.json') as json_file:\n",
    "    print(str(json_file.read()))"
   ]
  }
 ],
 "metadata": {
  "interpreter": {
   "hash": "a707b6ce8c685eb936424fcc3009d4b4b7a52543c4db09380a3fc49186ceb509"
  },
  "kernelspec": {
   "display_name": "Python 3.9.7 ('base')",
   "language": "python",
   "name": "python3"
  },
  "language_info": {
   "codemirror_mode": {
    "name": "ipython",
    "version": 3
   },
   "file_extension": ".py",
   "mimetype": "text/x-python",
   "name": "python",
   "nbconvert_exporter": "python",
   "pygments_lexer": "ipython3",
   "version": "3.9.7"
  },
  "orig_nbformat": 4
 },
 "nbformat": 4,
 "nbformat_minor": 2
}
